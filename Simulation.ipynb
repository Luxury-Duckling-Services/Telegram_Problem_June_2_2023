{
  "nbformat": 4,
  "nbformat_minor": 0,
  "metadata": {
    "colab": {
      "provenance": []
    },
    "kernelspec": {
      "name": "python3",
      "display_name": "Python 3"
    },
    "language_info": {
      "name": "python"
    }
  },
  "cells": [
    {
      "cell_type": "code",
      "execution_count": 2,
      "metadata": {
        "colab": {
          "base_uri": "https://localhost:8080/",
          "height": 0
        },
        "id": "aQl8nQLFgun1",
        "outputId": "3d5eee9a-da3d-419c-cb46-98e130f30e0b"
      },
      "outputs": [
        {
          "output_type": "stream",
          "name": "stdout",
          "text": [
            "[{1, 2, 3}, {1, 2, 4}, {1, 3, 5}, {1, 4, 5}, {2, 3, 6}, {2, 4, 6}, {3, 5, 6}, {4, 5, 6}]\n",
            "4.142197\n",
            "4.142857142857143\n"
          ]
        }
      ],
      "source": [
        "import random\n",
        "\n",
        "# all possible faces\n",
        "\n",
        "faces = []\n",
        "\n",
        "for i in range(1,7):\n",
        "    for j in range(1,7):\n",
        "        for k in range(1,7):\n",
        "            if (i!= j and i!= k and j!=k and i+j!=7 and i+k!=7 and j+k!=7 and set([i,j,k]) not in faces):\n",
        "                faces.append(set([i,j,k]))\n",
        "\n",
        "print(faces)\n",
        "\n",
        "# run experiment\n",
        "\n",
        "total_rolls = 0\n",
        "total_experiment = 10 ** 6\n",
        "\n",
        "for experiment in range( total_experiment ):\n",
        "    rolls = 0\n",
        "    seen = set()\n",
        "    while (len(seen) != 6):\n",
        "        random_index = random.randint(0, 7) \n",
        "        seen = seen.union( faces[random_index] )\n",
        "        rolls += 1\n",
        "\n",
        "    total_rolls += rolls\n",
        "\n",
        "print( total_rolls/ total_experiment)\n",
        "print( 232/56 )"
      ]
    }
  ]
}